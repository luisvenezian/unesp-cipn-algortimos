{
 "cells": [
  {
   "cell_type": "markdown",
   "metadata": {},
   "source": [
    "## Perceptron Neural Network\n",
    "\n",
    "This is a simple network trained to perform executions as an AND logical operator"
   ]
  },
  {
   "cell_type": "code",
   "execution_count": 30,
   "metadata": {},
   "outputs": [],
   "source": [
    "from typing import List\n",
    "\n",
    "def perceptron(max_it: int, alpha: float, input: List, desired_output: List):\n",
    "    w = [0,0,0]\n",
    "    t = 1\n",
    "    E = 1\n",
    "    while t < max_it and E > 0:\n",
    "        E = 0\n",
    "        for i, v in enumerate(input):\n",
    "            y = threshold_function(sum([x * weigth for x, weigth in zip(v, w)]))\n",
    "            e = desired_output[i] - y\n",
    "            w = [weigth + (x * weigth * alpha) for x, weigth in zip(v, w)]\n",
    "            v[0] += alpha * e\n",
    "            E += e**2\n",
    "        t += 1\n",
    "\n",
    "    return w\n",
    "\n",
    "input = [\n",
    "    [1, 0, 0],\n",
    "    [1, 0, 1],\n",
    "    [1, 1, 0],\n",
    "    [1, 1, 1],\n",
    "]\n",
    "\n",
    "desired_output = [0,0,0,1]\n",
    "\n",
    "threshold_function = lambda x: 1 if x > 0 else 0"
   ]
  },
  {
   "cell_type": "code",
   "execution_count": 38,
   "metadata": {},
   "outputs": [
    {
     "data": {
      "text/plain": [
       "[0.0, 0.0, 0.0]"
      ]
     },
     "execution_count": 38,
     "metadata": {},
     "output_type": "execute_result"
    }
   ],
   "source": [
    "perceptron(10, 0.5, input, desired_output)"
   ]
  }
 ],
 "metadata": {
  "kernelspec": {
   "display_name": "Python 3",
   "language": "python",
   "name": "python3"
  },
  "language_info": {
   "codemirror_mode": {
    "name": "ipython",
    "version": 3
   },
   "file_extension": ".py",
   "mimetype": "text/x-python",
   "name": "python",
   "nbconvert_exporter": "python",
   "pygments_lexer": "ipython3",
   "version": "3.11.9"
  }
 },
 "nbformat": 4,
 "nbformat_minor": 2
}
