{
 "cells": [
  {
   "cell_type": "code",
   "execution_count": 1,
   "metadata": {},
   "outputs": [],
   "source": [
    "import pandas as pd\n",
    "\n",
    "\n",
    "df = pd.read_json('../neural_networks/perceptron/logs/executions/iris/output-1714836189950.json')\n",
    "df_predictions = pd.read_csv('../neural_networks/perceptron/logs/predictions/iris/predictions-1714836189950.csv')"
   ]
  },
  {
   "cell_type": "code",
   "execution_count": 2,
   "metadata": {},
   "outputs": [
    {
     "data": {
      "text/html": [
       "<div>\n",
       "<style scoped>\n",
       "    .dataframe tbody tr th:only-of-type {\n",
       "        vertical-align: middle;\n",
       "    }\n",
       "\n",
       "    .dataframe tbody tr th {\n",
       "        vertical-align: top;\n",
       "    }\n",
       "\n",
       "    .dataframe thead th {\n",
       "        text-align: right;\n",
       "    }\n",
       "</style>\n",
       "<table border=\"1\" class=\"dataframe\">\n",
       "  <thead>\n",
       "    <tr style=\"text-align: right;\">\n",
       "      <th></th>\n",
       "      <th>epoch</th>\n",
       "      <th>weights</th>\n",
       "      <th>accuracy_validation</th>\n",
       "      <th>mse_training</th>\n",
       "      <th>accuracy_training</th>\n",
       "      <th>mse_validation</th>\n",
       "      <th>bias</th>\n",
       "    </tr>\n",
       "  </thead>\n",
       "  <tbody>\n",
       "    <tr>\n",
       "      <th>0</th>\n",
       "      <td>99</td>\n",
       "      <td>[[0.41691513859098306, 0.915692036391862, -1.1...</td>\n",
       "      <td>0.955556</td>\n",
       "      <td>0.057143</td>\n",
       "      <td>0.971429</td>\n",
       "      <td>0.088889</td>\n",
       "      <td>-1.343245e-17</td>\n",
       "    </tr>\n",
       "    <tr>\n",
       "      <th>1</th>\n",
       "      <td>98</td>\n",
       "      <td>[[0.415240546314587, 0.911952233950243, -1.176...</td>\n",
       "      <td>0.955556</td>\n",
       "      <td>0.057143</td>\n",
       "      <td>0.971429</td>\n",
       "      <td>0.088889</td>\n",
       "      <td>-1.309966e-17</td>\n",
       "    </tr>\n",
       "    <tr>\n",
       "      <th>2</th>\n",
       "      <td>97</td>\n",
       "      <td>[[0.413557294455872, 0.9081900419847231, -1.17...</td>\n",
       "      <td>0.955556</td>\n",
       "      <td>0.057143</td>\n",
       "      <td>0.971429</td>\n",
       "      <td>0.088889</td>\n",
       "      <td>-1.332213e-17</td>\n",
       "    </tr>\n",
       "    <tr>\n",
       "      <th>3</th>\n",
       "      <td>96</td>\n",
       "      <td>[[0.41186524789365003, 0.9044050675099, -1.167...</td>\n",
       "      <td>0.955556</td>\n",
       "      <td>0.057143</td>\n",
       "      <td>0.971429</td>\n",
       "      <td>0.088889</td>\n",
       "      <td>-1.285994e-17</td>\n",
       "    </tr>\n",
       "    <tr>\n",
       "      <th>4</th>\n",
       "      <td>95</td>\n",
       "      <td>[[0.410164267087165, 0.9005969050238931, -1.16...</td>\n",
       "      <td>0.955556</td>\n",
       "      <td>0.057143</td>\n",
       "      <td>0.971429</td>\n",
       "      <td>0.088889</td>\n",
       "      <td>-1.260016e-17</td>\n",
       "    </tr>\n",
       "    <tr>\n",
       "      <th>...</th>\n",
       "      <td>...</td>\n",
       "      <td>...</td>\n",
       "      <td>...</td>\n",
       "      <td>...</td>\n",
       "      <td>...</td>\n",
       "      <td>...</td>\n",
       "      <td>...</td>\n",
       "    </tr>\n",
       "    <tr>\n",
       "      <th>95</th>\n",
       "      <td>4</td>\n",
       "      <td>[[0.11385644149974401, 0.21309554284544502, -0...</td>\n",
       "      <td>0.622222</td>\n",
       "      <td>0.628571</td>\n",
       "      <td>0.685714</td>\n",
       "      <td>0.755556</td>\n",
       "      <td>-7.216450e-19</td>\n",
       "    </tr>\n",
       "    <tr>\n",
       "      <th>96</th>\n",
       "      <td>3</td>\n",
       "      <td>[[0.10210820641710001, 0.188289463525484, -0.1...</td>\n",
       "      <td>0.622222</td>\n",
       "      <td>0.628571</td>\n",
       "      <td>0.685714</td>\n",
       "      <td>0.755556</td>\n",
       "      <td>-8.326673e-19</td>\n",
       "    </tr>\n",
       "    <tr>\n",
       "      <th>97</th>\n",
       "      <td>2</td>\n",
       "      <td>[[0.08944764218732601, 0.161779955715179, -0.1...</td>\n",
       "      <td>0.622222</td>\n",
       "      <td>0.628571</td>\n",
       "      <td>0.685714</td>\n",
       "      <td>0.755556</td>\n",
       "      <td>6.661338e-19</td>\n",
       "    </tr>\n",
       "    <tr>\n",
       "      <th>98</th>\n",
       "      <td>1</td>\n",
       "      <td>[[0.07638419142720901, 0.133743059104038, -0.1...</td>\n",
       "      <td>0.622222</td>\n",
       "      <td>0.628571</td>\n",
       "      <td>0.685714</td>\n",
       "      <td>0.755556</td>\n",
       "      <td>7.216450e-19</td>\n",
       "    </tr>\n",
       "    <tr>\n",
       "      <th>99</th>\n",
       "      <td>0</td>\n",
       "      <td>[[0.066237573706873, 0.105809655904833, -0.062...</td>\n",
       "      <td>0.244444</td>\n",
       "      <td>1.219048</td>\n",
       "      <td>0.390476</td>\n",
       "      <td>1.511111</td>\n",
       "      <td>5.551115e-20</td>\n",
       "    </tr>\n",
       "  </tbody>\n",
       "</table>\n",
       "<p>100 rows × 7 columns</p>\n",
       "</div>"
      ],
      "text/plain": [
       "    epoch                                            weights  \\\n",
       "0      99  [[0.41691513859098306, 0.915692036391862, -1.1...   \n",
       "1      98  [[0.415240546314587, 0.911952233950243, -1.176...   \n",
       "2      97  [[0.413557294455872, 0.9081900419847231, -1.17...   \n",
       "3      96  [[0.41186524789365003, 0.9044050675099, -1.167...   \n",
       "4      95  [[0.410164267087165, 0.9005969050238931, -1.16...   \n",
       "..    ...                                                ...   \n",
       "95      4  [[0.11385644149974401, 0.21309554284544502, -0...   \n",
       "96      3  [[0.10210820641710001, 0.188289463525484, -0.1...   \n",
       "97      2  [[0.08944764218732601, 0.161779955715179, -0.1...   \n",
       "98      1  [[0.07638419142720901, 0.133743059104038, -0.1...   \n",
       "99      0  [[0.066237573706873, 0.105809655904833, -0.062...   \n",
       "\n",
       "    accuracy_validation  mse_training  accuracy_training  mse_validation  \\\n",
       "0              0.955556      0.057143           0.971429        0.088889   \n",
       "1              0.955556      0.057143           0.971429        0.088889   \n",
       "2              0.955556      0.057143           0.971429        0.088889   \n",
       "3              0.955556      0.057143           0.971429        0.088889   \n",
       "4              0.955556      0.057143           0.971429        0.088889   \n",
       "..                  ...           ...                ...             ...   \n",
       "95             0.622222      0.628571           0.685714        0.755556   \n",
       "96             0.622222      0.628571           0.685714        0.755556   \n",
       "97             0.622222      0.628571           0.685714        0.755556   \n",
       "98             0.622222      0.628571           0.685714        0.755556   \n",
       "99             0.244444      1.219048           0.390476        1.511111   \n",
       "\n",
       "            bias  \n",
       "0  -1.343245e-17  \n",
       "1  -1.309966e-17  \n",
       "2  -1.332213e-17  \n",
       "3  -1.285994e-17  \n",
       "4  -1.260016e-17  \n",
       "..           ...  \n",
       "95 -7.216450e-19  \n",
       "96 -8.326673e-19  \n",
       "97  6.661338e-19  \n",
       "98  7.216450e-19  \n",
       "99  5.551115e-20  \n",
       "\n",
       "[100 rows x 7 columns]"
      ]
     },
     "execution_count": 2,
     "metadata": {},
     "output_type": "execute_result"
    }
   ],
   "source": [
    "df"
   ]
  },
  {
   "cell_type": "code",
   "execution_count": 3,
   "metadata": {},
   "outputs": [
    {
     "data": {
      "text/plain": [
       "<Axes: xlabel='epoch'>"
      ]
     },
     "execution_count": 3,
     "metadata": {},
     "output_type": "execute_result"
    },
    {
     "data": {
      "image/png": "[encoded data removed]",
      "text/plain": [
       "<Figure size 640x480 with 1 Axes>"
      ]
     },
     "metadata": {},
     "output_type": "display_data"
    }
   ],
   "source": [
    "# Plot a line graph comparing mse_validation, mse_test and mse_train for each epoch called iteration of 1000 first rows\n",
    "df.plot(x='epoch', y=['mse_validation', 'mse_training'])"
   ]
  },
  {
   "cell_type": "code",
   "execution_count": 4,
   "metadata": {},
   "outputs": [
    {
     "data": {
      "text/plain": [
       "<Axes: xlabel='epoch'>"
      ]
     },
     "execution_count": 4,
     "metadata": {},
     "output_type": "execute_result"
    },
    {
     "data": {
      "image/png": "[encoded data removed]",
      "text/plain": [
       "<Figure size 640x480 with 1 Axes>"
      ]
     },
     "metadata": {},
     "output_type": "display_data"
    }
   ],
   "source": [
    "# Plot a line graph comparing accuracy_validation, accuracy_test and accuracy_train for each epoch called iteration\n",
    "df.plot(x='epoch', y=['accuracy_validation', 'accuracy_training'])"
   ]
  },
  {
   "cell_type": "code",
   "execution_count": 5,
   "metadata": {},
   "outputs": [
    {
     "data": {
      "text/html": [
       "<div>\n",
       "<style scoped>\n",
       "    .dataframe tbody tr th:only-of-type {\n",
       "        vertical-align: middle;\n",
       "    }\n",
       "\n",
       "    .dataframe tbody tr th {\n",
       "        vertical-align: top;\n",
       "    }\n",
       "\n",
       "    .dataframe thead th {\n",
       "        text-align: right;\n",
       "    }\n",
       "</style>\n",
       "<table border=\"1\" class=\"dataframe\">\n",
       "  <thead>\n",
       "    <tr style=\"text-align: right;\">\n",
       "      <th></th>\n",
       "      <th>feature0</th>\n",
       "      <th>feature1</th>\n",
       "      <th>feature2</th>\n",
       "      <th>feature3</th>\n",
       "      <th>expected</th>\n",
       "      <th>predicted</th>\n",
       "    </tr>\n",
       "  </thead>\n",
       "  <tbody>\n",
       "    <tr>\n",
       "      <th>0</th>\n",
       "      <td>5.4</td>\n",
       "      <td>3.9</td>\n",
       "      <td>1.7</td>\n",
       "      <td>0.4</td>\n",
       "      <td>Iris-setosa</td>\n",
       "      <td>Iris-setosa</td>\n",
       "    </tr>\n",
       "    <tr>\n",
       "      <th>1</th>\n",
       "      <td>6.2</td>\n",
       "      <td>2.2</td>\n",
       "      <td>4.5</td>\n",
       "      <td>1.5</td>\n",
       "      <td>Iris-versicolor</td>\n",
       "      <td>Iris-versicolor</td>\n",
       "    </tr>\n",
       "    <tr>\n",
       "      <th>2</th>\n",
       "      <td>5.8</td>\n",
       "      <td>2.7</td>\n",
       "      <td>4.1</td>\n",
       "      <td>1.0</td>\n",
       "      <td>Iris-versicolor</td>\n",
       "      <td>Iris-versicolor</td>\n",
       "    </tr>\n",
       "    <tr>\n",
       "      <th>3</th>\n",
       "      <td>6.7</td>\n",
       "      <td>3.3</td>\n",
       "      <td>5.7</td>\n",
       "      <td>2.1</td>\n",
       "      <td>Iris-virginica</td>\n",
       "      <td>Iris-virginica</td>\n",
       "    </tr>\n",
       "    <tr>\n",
       "      <th>4</th>\n",
       "      <td>5.1</td>\n",
       "      <td>3.4</td>\n",
       "      <td>1.5</td>\n",
       "      <td>0.2</td>\n",
       "      <td>Iris-setosa</td>\n",
       "      <td>Iris-setosa</td>\n",
       "    </tr>\n",
       "  </tbody>\n",
       "</table>\n",
       "</div>"
      ],
      "text/plain": [
       "   feature0  feature1  feature2  feature3         expected        predicted\n",
       "0       5.4       3.9       1.7       0.4      Iris-setosa      Iris-setosa\n",
       "1       6.2       2.2       4.5       1.5  Iris-versicolor  Iris-versicolor\n",
       "2       5.8       2.7       4.1       1.0  Iris-versicolor  Iris-versicolor\n",
       "3       6.7       3.3       5.7       2.1   Iris-virginica   Iris-virginica\n",
       "4       5.1       3.4       1.5       0.2      Iris-setosa      Iris-setosa"
      ]
     },
     "execution_count": 5,
     "metadata": {},
     "output_type": "execute_result"
    }
   ],
   "source": [
    "df_predictions.head()"
   ]
  },
  {
   "cell_type": "code",
   "execution_count": 6,
   "metadata": {},
   "outputs": [
    {
     "data": {
      "image/png": "[encoded data removed]",
      "text/plain": [
       "<Figure size 640x480 with 1 Axes>"
      ]
     },
     "metadata": {},
     "output_type": "display_data"
    }
   ],
   "source": [
    "# Plot matrix of confusion with legend\n",
    "from sklearn.metrics import confusion_matrix\n",
    "import seaborn as sns\n",
    "import matplotlib.pyplot as plt\n",
    "\n",
    "cm = confusion_matrix(\n",
    "    df_predictions['expected'], \n",
    "    df_predictions['predicted'], \n",
    "    labels=[\"Iris-setosa\", \"Iris-versicolor\", \"Iris-virginica\"]\n",
    ")\n",
    "\n",
    "sns.matrix = sns.heatmap(cm, annot=True, fmt='d', cmap='Blues', cbar=False)"
   ]
  },
  {
   "cell_type": "code",
   "execution_count": 7,
   "metadata": {},
   "outputs": [
    {
     "data": {
      "image/png": "[encoded data removed]",
      "text/plain": [
       "<Figure size 640x480 with 1 Axes>"
      ]
     },
     "metadata": {},
     "output_type": "display_data"
    }
   ],
   "source": [
    "# Plot matrix of confusion with legend showing which classes were better predicted\n",
    "cm = confusion_matrix(\n",
    "    df_predictions['expected'], \n",
    "    df_predictions['predicted'], \n",
    "    labels=[\"Iris-setosa\", \"Iris-versicolor\", \"Iris-virginica\"]\n",
    ")\n",
    "\n",
    "sns.matrix = sns.heatmap(cm, annot=True, fmt='d', cmap='Blues', cbar=False, \n",
    "                         xticklabels=[\"Iris-setosa\", \"Iris-versicolor\", \"Iris-virginica\"],\n",
    "                         yticklabels=[\"Iris-setosa\", \"Iris-versicolor\", \"Iris-virginica\"])\n"
   ]
  },
  {
   "cell_type": "code",
   "execution_count": 8,
   "metadata": {},
   "outputs": [
    {
     "data": {
      "text/html": [
       "<div>\n",
       "<style scoped>\n",
       "    .dataframe tbody tr th:only-of-type {\n",
       "        vertical-align: middle;\n",
       "    }\n",
       "\n",
       "    .dataframe tbody tr th {\n",
       "        vertical-align: top;\n",
       "    }\n",
       "\n",
       "    .dataframe thead th {\n",
       "        text-align: right;\n",
       "    }\n",
       "</style>\n",
       "<table border=\"1\" class=\"dataframe\">\n",
       "  <thead>\n",
       "    <tr style=\"text-align: right;\">\n",
       "      <th></th>\n",
       "      <th>feature0</th>\n",
       "      <th>feature1</th>\n",
       "      <th>feature2</th>\n",
       "      <th>feature3</th>\n",
       "      <th>expected</th>\n",
       "      <th>predicted</th>\n",
       "    </tr>\n",
       "  </thead>\n",
       "  <tbody>\n",
       "    <tr>\n",
       "      <th>18</th>\n",
       "      <td>6.0</td>\n",
       "      <td>2.7</td>\n",
       "      <td>5.1</td>\n",
       "      <td>1.6</td>\n",
       "      <td>Iris-virginica</td>\n",
       "      <td>Iris-versicolor</td>\n",
       "    </tr>\n",
       "    <tr>\n",
       "      <th>34</th>\n",
       "      <td>5.6</td>\n",
       "      <td>3.0</td>\n",
       "      <td>4.5</td>\n",
       "      <td>1.5</td>\n",
       "      <td>Iris-virginica</td>\n",
       "      <td>Iris-versicolor</td>\n",
       "    </tr>\n",
       "  </tbody>\n",
       "</table>\n",
       "</div>"
      ],
      "text/plain": [
       "    feature0  feature1  feature2  feature3        expected        predicted\n",
       "18       6.0       2.7       5.1       1.6  Iris-virginica  Iris-versicolor\n",
       "34       5.6       3.0       4.5       1.5  Iris-virginica  Iris-versicolor"
      ]
     },
     "execution_count": 8,
     "metadata": {},
     "output_type": "execute_result"
    }
   ],
   "source": [
    "df_predictions.where(df_predictions['expected'] != df_predictions['predicted']).dropna()"
   ]
  },
  {
   "cell_type": "code",
   "execution_count": 9,
   "metadata": {},
   "outputs": [
    {
     "data": {
      "text/plain": [
       "epoch                                                                 99\n",
       "weights                [[0.41691513859098306, 0.915692036391862, -1.1...\n",
       "accuracy_validation                                             0.955556\n",
       "mse_training                                                    0.057143\n",
       "accuracy_training                                               0.971429\n",
       "mse_validation                                                  0.088889\n",
       "bias                                                                -0.0\n",
       "Name: 0, dtype: object"
      ]
     },
     "execution_count": 9,
     "metadata": {},
     "output_type": "execute_result"
    }
   ],
   "source": [
    "df.iloc[0]"
   ]
  },
  {
   "cell_type": "code",
   "execution_count": 10,
   "metadata": {},
   "outputs": [
    {
     "data": {
      "text/plain": [
       "[[0.41691513859098306,\n",
       "  0.915692036391862,\n",
       "  -1.181887318630435,\n",
       "  -0.493278145366538],\n",
       " [0.23380903051418703,\n",
       "  -0.11015072497502801,\n",
       "  0.19119988117948,\n",
       "  -0.105630192923805],\n",
       " [-0.464488016336829,\n",
       "  -0.5836158277291611,\n",
       "  1.074579448868787,\n",
       "  0.8093793116477851]]"
      ]
     },
     "execution_count": 10,
     "metadata": {},
     "output_type": "execute_result"
    }
   ],
   "source": [
    "#first row\n",
    "df.iloc[0]['weights']"
   ]
  },
  {
   "cell_type": "code",
   "execution_count": 11,
   "metadata": {},
   "outputs": [
    {
     "data": {
      "text/plain": [
       "[[0.066237573706873,\n",
       "  0.105809655904833,\n",
       "  -0.062487050022837005,\n",
       "  0.048635577376212005],\n",
       " [0.060231712742607,\n",
       "  0.051230234624584,\n",
       "  0.062741991037393,\n",
       "  0.07659532165209701],\n",
       " [0.05976686631886301,\n",
       "  0.06488559315825901,\n",
       "  0.083637070403274,\n",
       "  0.08524007432913101]]"
      ]
     },
     "execution_count": 11,
     "metadata": {},
     "output_type": "execute_result"
    }
   ],
   "source": [
    "df.iloc[-1]['weights']"
   ]
  },
  {
   "cell_type": "code",
   "execution_count": 12,
   "metadata": {},
   "outputs": [
    {
     "data": {
      "text/plain": [
       "-1.3432451765466073e-17"
      ]
     },
     "execution_count": 12,
     "metadata": {},
     "output_type": "execute_result"
    }
   ],
   "source": [
    "df.iloc[0]['bias']"
   ]
  },
  {
   "cell_type": "code",
   "execution_count": null,
   "metadata": {},
   "outputs": [],
   "source": []
  }
 ],
 "metadata": {
  "kernelspec": {
   "display_name": "Python 3",
   "language": "python",
   "name": "python3"
  },
  "language_info": {
   "codemirror_mode": {
    "name": "ipython",
    "version": 3
   },
   "file_extension": ".py",
   "mimetype": "text/x-python",
   "name": "python",
   "nbconvert_exporter": "python",
   "pygments_lexer": "ipython3",
   "version": "3.12.3"
  }
 },
 "nbformat": 4,
 "nbformat_minor": 2
}
