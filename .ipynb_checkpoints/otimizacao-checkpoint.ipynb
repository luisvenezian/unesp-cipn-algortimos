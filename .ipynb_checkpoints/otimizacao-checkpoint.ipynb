{
 "cells": [
  {
   "cell_type": "markdown",
   "id": "f59a8418-e29a-467c-9ca1-b363669fefe7",
   "metadata": {},
   "source": [
    "## Otimização com algoritmo de subida da colina"
   ]
  },
  {
   "cell_type": "markdown",
   "id": "fe1b131f-bd43-434f-ab1d-d51f791b95eb",
   "metadata": {},
   "source": [
    "Considere a função abaixo:\n",
    "```code\n",
    "g(x) = (2^(-2 ((x−0.1)/0.9)^2)) ((sin(5πx))^6)\n",
    "```\n",
    "\n",
    "e sua versão em Python:"
   ]
  },
  {
   "cell_type": "code",
   "execution_count": 8,
   "id": "a26de1fd-21b0-4d86-8fd4-b0edc6af23bf",
   "metadata": {},
   "outputs": [],
   "source": [
    "from random import random\n",
    "import math\n",
    "import numpy as np\n",
    "import matplotlib.pyplot as plt"
   ]
  },
  {
   "cell_type": "code",
   "execution_count": 9,
   "id": "3358a5e3-a275-4b1e-96ab-755d652503a2",
   "metadata": {},
   "outputs": [],
   "source": [
    "def f(x):\n",
    "    part1 = 2**(-2 * (((x - 0.1) / 0.9) ** 2))\n",
    "    part2 = math.sin(5*math.pi*x)**6\n",
    "    \n",
    "    return part1 * part2"
   ]
  },
  {
   "cell_type": "code",
   "execution_count": 10,
   "id": "10302a2d-6eb7-4fd4-87e3-7e861bd09bd2",
   "metadata": {},
   "outputs": [],
   "source": [
    "x = np.linspace(start=0.0, stop=1.0, num=1000)\n",
    "y = np.empty([x.shape[0]])\n",
    "\n",
    "for i in range(len(x)):\n",
    "    result = f(x[i])\n",
    "    y[i] = result"
   ]
  },
  {
   "cell_type": "code",
   "execution_count": 11,
   "id": "ab283923-bad2-41ce-9559-6b570da6ef16",
   "metadata": {},
   "outputs": [
    {
     "data": {
      "image/png": "[encoded data removed]",
      "text/plain": [
       "<Figure size 720x360 with 1 Axes>"
      ]
     },
     "metadata": {
      "needs_background": "light"
     },
     "output_type": "display_data"
    }
   ],
   "source": [
    "plt.figure(figsize=[10,5])\n",
    "plt.plot(x, y, label='f(x)')\n",
    "# plt.plot(.09, .92,'yo')\n",
    "plt.ylabel('f')\n",
    "plt.xlabel('x range')\n",
    "plt.legend()\n",
    "plt.grid(True)\n",
    "plt.show()"
   ]
  },
  {
   "cell_type": "markdown",
   "id": "f8641206-3aad-418c-8c34-979704dc8f85",
   "metadata": {},
   "source": [
    "![title](hca.png)"
   ]
  },
  {
   "cell_type": "code",
   "execution_count": 12,
   "id": "a85815b0-ab6a-4b8b-ab43-4792bd82613e",
   "metadata": {},
   "outputs": [],
   "source": [
    "def N(x):\n",
    "    r = x * 1.1\n",
    "    l = x * 0.9\n",
    "    \n",
    "    if (l < 0 or l > 10) or (r < 0 or r > 10):\n",
    "        return [r, l]\n",
    "    \n",
    "    return [l, r]\n",
    "\n",
    "def hill_climbing():\n",
    "    i = random()\n",
    "    for s in N(i):\n",
    "        if f(s) > f(i):\n",
    "            i = s;\n",
    "            \n",
    "    return f(i)\n"
   ]
  },
  {
   "cell_type": "code",
   "execution_count": null,
   "id": "d2a9473b-b46e-4d66-841d-d50bcf59abfa",
   "metadata": {},
   "outputs": [],
   "source": [
    "hill_climbing()"
   ]
  },
  {
   "cell_type": "markdown",
   "id": "da8a4d83-c5e4-4a92-b6f9-6a675d3e2537",
   "metadata": {},
   "source": [
    "# Optimization with Stochastic Hill Climbing"
   ]
  },
  {
   "cell_type": "markdown",
   "id": "5733bdb1-b901-4eb4-8959-26c67749dfb7",
   "metadata": {},
   "source": [
    "```\n",
    "procedimento [x] = stochastic-hill-climbing(max_it, g)\n",
    "    inicializar x\n",
    "    avaliar(x)\n",
    "    t ← 1\n",
    "    enquanto t ≤ max_it & avaliar(x) ! = g faça\n",
    "        x’ ← perturbar(x)\n",
    "        avaliar(x’)\n",
    "        \n",
    "        se aleatorio[0,1) < (1/(1+exp[(avaliar(x)-avaliar(x’))/T]))\n",
    "            então x ← x’\n",
    "        fim-se\n",
    "        \n",
    "        t ← t + 1\n",
    "    fim-enquanto\n",
    "fim-procedimento\n",
    "```\n",
    "\n",
    "T é um parâmetro de controle do decaimento\n",
    "da função exponencial, quanto maior for o valor de T, maior a chance de x' ser atualizado."
   ]
  },
  {
   "cell_type": "code",
   "execution_count": 1,
   "id": "aaace79f-b833-44b1-aba7-8cfe1297bd65",
   "metadata": {},
   "outputs": [],
   "source": [
    "from math import exp\n",
    "\n",
    "def stochastic_hill_climbing(max_it: int, g: int):\n",
    "    x = aleatorio(0,9)\n",
    "    t = 1\n",
    "    T = 10\n",
    "    \n",
    "    while t <= max_it and avaliar(x) != g:\n",
    "        \n",
    "        # Perturbar X linha (consulta vizinhos)\n",
    "        if v[x-1] > v[x+1] and v[x-1] > v[x]:\n",
    "            xl = x-1\n",
    "        elif v[x+1] > v[x-1] and v[x+1] > v[x]:\n",
    "            xl = x+1\n",
    "        else:\n",
    "            break\n",
    "            \n",
    "        if aleatorio_zero_ate_um() < (1/(1+exp((avaliar(x) - avaliar(xl))/T))):\n",
    "            x = xl\n",
    "        \n",
    "        t += 1\n",
    "    \n",
    "    return x"
   ]
  },
  {
   "cell_type": "code",
   "execution_count": 2,
   "id": "223a152e-33a7-4789-8588-49038ab97d29",
   "metadata": {},
   "outputs": [],
   "source": [
    "from math import exp"
   ]
  },
  {
   "cell_type": "code",
   "execution_count": 3,
   "id": "e61fec16-4f61-4a6a-91c3-4c005fc344c6",
   "metadata": {},
   "outputs": [
    {
     "data": {
      "text/plain": [
       "1096.6331584284585"
      ]
     },
     "execution_count": 3,
     "metadata": {},
     "output_type": "execute_result"
    }
   ],
   "source": [
    "exp(7)"
   ]
  },
  {
   "cell_type": "code",
   "execution_count": null,
   "id": "46e5e2de-7309-42e0-8329-02979a80805b",
   "metadata": {},
   "outputs": [],
   "source": []
  },
  {
   "cell_type": "code",
   "execution_count": null,
   "id": "c3146a0c-747d-4ceb-95a3-ee20ee044c3e",
   "metadata": {},
   "outputs": [],
   "source": []
  }
 ],
 "metadata": {
  "kernelspec": {
   "display_name": "Python 3 (ipykernel)",
   "language": "python",
   "name": "python3"
  },
  "language_info": {
   "codemirror_mode": {
    "name": "ipython",
    "version": 3
   },
   "file_extension": ".py",
   "mimetype": "text/x-python",
   "name": "python",
   "nbconvert_exporter": "python",
   "pygments_lexer": "ipython3",
   "version": "3.10.2"
  }
 },
 "nbformat": 4,
 "nbformat_minor": 5
}
