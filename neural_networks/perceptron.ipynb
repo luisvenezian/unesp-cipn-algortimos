{
 "cells": [
  {
   "cell_type": "markdown",
   "metadata": {},
   "source": [
    "## Perceptron Neural Network\n",
    "\n",
    "This is a simple network trained to perform executions as an AND logical operator"
   ]
  },
  {
   "cell_type": "code",
   "execution_count": 12,
   "metadata": {},
   "outputs": [],
   "source": [
    "from typing import List\n",
    "\n",
    "def perceptron(max_it: int, alpha: float, input: List, desired_output: List):\n",
    "    w = [0,0,0]\n",
    "    t = 1\n",
    "    E = 1\n",
    "    while t < max_it and E > 0:\n",
    "        E = 0\n",
    "        for i, v in enumerate(input):\n",
    "            y = threshold_function(sum([x * weigth for x, weigth in zip(v, w)]))\n",
    "            e = desired_output[i] - y\n",
    "            w = [weigth + (alpha * e * x) for x, weigth in zip(v, w)]\n",
    "            E += e**2\n",
    "        t += 1\n",
    "\n",
    "    return w\n",
    "\n",
    "input = [\n",
    "    [1, 0, 0],\n",
    "    [1, 0, 1],\n",
    "    [1, 1, 0],\n",
    "    [1, 1, 1],\n",
    "]\n",
    "\n",
    "desired_output = [0,0,0,1]\n",
    "\n",
    "threshold_function = lambda x: 1 if x > 0 else 0"
   ]
  },
  {
   "cell_type": "code",
   "execution_count": 17,
   "metadata": {},
   "outputs": [
    {
     "data": {
      "text/plain": [
       "[-1.0, 1.0, 0.5]"
      ]
     },
     "execution_count": 17,
     "metadata": {},
     "output_type": "execute_result"
    }
   ],
   "source": [
    "perceptron(10, 0.5, input, desired_output)"
   ]
  },
  {
   "cell_type": "code",
   "execution_count": 24,
   "metadata": {},
   "outputs": [],
   "source": [
    "model = lambda x, y : threshold_function((x * 1) + (y * .5) - 1)"
   ]
  },
  {
   "cell_type": "code",
   "execution_count": 23,
   "metadata": {},
   "outputs": [
    {
     "data": {
      "text/plain": [
       "(0, 0, 0, 1)"
      ]
     },
     "execution_count": 23,
     "metadata": {},
     "output_type": "execute_result"
    }
   ],
   "source": [
    "model(0,0), model(0,1), model(1,0), model(1,1)"
   ]
  }
 ],
 "metadata": {
  "kernelspec": {
   "display_name": "Python 3",
   "language": "python",
   "name": "python3"
  },
  "language_info": {
   "codemirror_mode": {
    "name": "ipython",
    "version": 3
   },
   "file_extension": ".py",
   "mimetype": "text/x-python",
   "name": "python",
   "nbconvert_exporter": "python",
   "pygments_lexer": "ipython3",
   "version": "3.11.9"
  }
 },
 "nbformat": 4,
 "nbformat_minor": 2
}
