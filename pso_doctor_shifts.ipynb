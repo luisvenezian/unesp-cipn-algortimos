{
 "cells": [
  {
   "cell_type": "code",
   "execution_count": 5,
   "metadata": {},
   "outputs": [
    {
     "name": "stdout",
     "output_type": "stream",
     "text": [
      "Stopping search: maximum iterations reached --> 1000\n",
      "       Dia   Diurno  Noturno\n",
      "0    Dia 1  Cachoni   Rubben\n",
      "1    Dia 2     Lara     Lara\n",
      "2    Dia 3     Lara     Alex\n",
      "3    Dia 4   Rubben   Rubben\n",
      "4    Dia 5     Alex  Cachoni\n",
      "5    Dia 6   Rubben  Cachoni\n",
      "6    Dia 7  Cachoni  Cachoni\n",
      "7    Dia 8     Alex  Cachoni\n",
      "8    Dia 9     Alex  Cachoni\n",
      "9   Dia 10     Alex     Lara\n",
      "10  Dia 11   Rubben  Cachoni\n",
      "11  Dia 12     Alex  Cachoni\n",
      "12  Dia 13     Alex  Cachoni\n",
      "13  Dia 14     Lara  Cachoni\n",
      "14  Dia 15     Alex     Lara\n",
      "15  Dia 16     Lara     Alex\n",
      "16  Dia 17     Alex     Lara\n",
      "17  Dia 18     Alex   Rubben\n",
      "18  Dia 19     Lara  Cachoni\n",
      "19  Dia 20     Alex  Cachoni\n",
      "20  Dia 21     Lara  Cachoni\n",
      "21  Dia 22     Lara  Cachoni\n",
      "22  Dia 23  Cachoni  Cachoni\n",
      "23  Dia 24     Alex  Cachoni\n",
      "24  Dia 25   Rubben  Cachoni\n",
      "25  Dia 26   Rubben   Rubben\n",
      "26  Dia 27     Alex  Cachoni\n",
      "27  Dia 28     Alex     Alex\n",
      "28  Dia 29     Alex  Cachoni\n",
      "29  Dia 30     Lara  Cachoni\n"
     ]
    }
   ],
   "source": [
    "import numpy as np\n",
    "from local_pso import pso2 as pso\n",
    "import pandas as pd\n",
    "\n",
    "# Parâmetros do problema\n",
    "dias_no_mes = 30\n",
    "medicos = [\"Lara\", \"Cachoni\", \"Alex\", \"Rubben\"]\n",
    "num_medicos = len(medicos)\n",
    "\n",
    "# Definições de turnos\n",
    "DIURNO = 0\n",
    "NOTURNO = 1\n",
    "\n",
    "# Restrições dos médicos (exemplo)\n",
    "restricoes = {\n",
    "    \"Lara\": {\"dias\": [\"segunda\", \"terça\", \"quarta\"], \"periodo\": None, \"max_plantao\": 10, \"min_plantao\": 5},\n",
    "    \"Cachoni\": {\"dias\": None, \"periodo\": NOTURNO, \"max_plantao\": 20, \"min_plantao\": 15},\n",
    "    \"Alex\": {\"dias\": None, \"periodo\": DIURNO, \"max_plantao\": 10, \"min_plantao\": 4},\n",
    "    \"Rubben\": {\"dias\": [\"quinta\", \"sexta\"], \"periodo\": DIURNO, \"max_plantao\": 12, \"min_plantao\": 8}\n",
    "}\n",
    "\n",
    "# Conversão de dias da semana para índices\n",
    "dias_semana = [\"segunda\", \"terça\", \"quarta\", \"quinta\", \"sexta\", \"sábado\", \"domingo\"]\n",
    "dia_semana_idx = {dia: i for i, dia in enumerate(dias_semana)}\n",
    "\n",
    "# Função de avaliação\n",
    "def avaliar_escala(escala):\n",
    "    penalidade = 0\n",
    "    pontuacao = 0\n",
    "\n",
    "    # Contar plantões por médico\n",
    "    contagem_plantao = np.sum(escala, axis=(0, 1))\n",
    "\n",
    "    # Verificar restrições\n",
    "    for i, medico in enumerate(medicos):\n",
    "        restricao = restricoes[medico]\n",
    "        max_plantao = restricao[\"max_plantao\"]\n",
    "        min_plantao = restricao[\"min_plantao\"]\n",
    "        dias_restritos = restricao.get(\"dias\")\n",
    "        periodo_restrito = restricao.get(\"periodo\")\n",
    "\n",
    "        # Penalizar se exceder ou não atingir o número de plantões\n",
    "        if contagem_plantao[i] > max_plantao:\n",
    "            penalidade += (contagem_plantao[i] - max_plantao) * 10\n",
    "        if contagem_plantao[i] < min_plantao:\n",
    "            penalidade += (min_plantao - contagem_plantao[i]) * 10\n",
    "\n",
    "        for dia in range(dias_no_mes):\n",
    "            dia_semana = dias_semana[dia % 7]\n",
    "            if dias_restritos and dia_semana not in dias_restritos:\n",
    "                # Penalizar plantões em dias restritos\n",
    "                penalidade += np.sum(escala[dia, :, i]) * 10\n",
    "\n",
    "            if periodo_restrito is not None:\n",
    "                if escala[dia, 1 - periodo_restrito, i] == 1:\n",
    "                    # Penalizar plantões em períodos restritos\n",
    "                    penalidade += 10\n",
    "\n",
    "    # Penalizar mais de um médico por turno\n",
    "    for dia in range(dias_no_mes):\n",
    "        for turno in range(2):\n",
    "            if np.sum(escala[dia, turno, :]) != 1:\n",
    "                penalidade += 100\n",
    "\n",
    "    return penalidade - pontuacao\n",
    "\n",
    "# Função de otimização usando PSO\n",
    "def pso_optimization():\n",
    "    lb = [0] * (dias_no_mes * 2)\n",
    "    ub = [num_medicos - 1] * (dias_no_mes * 2)\n",
    "    \n",
    "    def funcao_objetivo(x):\n",
    "        escala = np.zeros((dias_no_mes, 2, num_medicos), dtype=int)\n",
    "        indices = np.round(x).astype(int)\n",
    "        for dia in range(dias_no_mes):\n",
    "            for turno in range(2):\n",
    "                idx = indices[dia * 2 + turno]\n",
    "                escala[dia, turno, idx] = 1\n",
    "        return avaliar_escala(escala)\n",
    "    \n",
    "    xopt, hist = pso(funcao_objetivo, lb, ub, swarmsize=500, maxiter=100)\n",
    "    melhor_escala = np.zeros((dias_no_mes, 2, num_medicos), dtype=int)\n",
    "    indices = np.round(xopt).astype(int)\n",
    "    for dia in range(dias_no_mes):\n",
    "        for turno in range(2):\n",
    "            idx = indices[dia * 2 + turno]\n",
    "            melhor_escala[dia, turno, idx] = 1\n",
    "\n",
    "    return melhor_escala, hist\n",
    "\n",
    "# Executar a otimização\n",
    "melhor_escala, h = pso_optimization()\n",
    "\n",
    "# Exibir a escala resultante\n",
    "dias = [f\"Dia {i + 1}\" for i in range(dias_no_mes)]\n",
    "plantao_labels = [\"Diurno\", \"Noturno\"]\n",
    "\n",
    "resultados = []\n",
    "\n",
    "for dia in range(dias_no_mes):\n",
    "        linha = [dias[dia]]\n",
    "        for turno in range(2):\n",
    "            for medico in range(num_medicos):\n",
    "                if melhor_escala[dia, DIURNO, medico]:\n",
    "                    d = medicos[medico]\n",
    "                if melhor_escala[dia, NOTURNO, medico]:\n",
    "                    n = medicos[medico]\n",
    "                \n",
    "        linha.append(d)\n",
    "        linha.append(n)\n",
    "        resultados.append(linha)\n",
    "\n",
    "colunas = [\"Dia\", \"Diurno\", \"Noturno\"] \n",
    "df_resultado = pd.DataFrame(resultados, columns=colunas)\n",
    "print(df_resultado)\n"
   ]
  },
  {
   "cell_type": "code",
   "execution_count": 3,
   "metadata": {},
   "outputs": [
    {
     "data": {
      "text/plain": [
       "200"
      ]
     },
     "execution_count": 3,
     "metadata": {},
     "output_type": "execute_result"
    }
   ],
   "source": [
    "len(h)"
   ]
  },
  {
   "cell_type": "code",
   "execution_count": 4,
   "metadata": {},
   "outputs": [
    {
     "data": {
      "text/plain": [
       "[<matplotlib.lines.Line2D at 0x11e669e20>]"
      ]
     },
     "execution_count": 4,
     "metadata": {},
     "output_type": "execute_result"
    },
    {
     "data": {
      "image/png": "[encoded data removed]",
      "text/plain": [
       "<Figure size 640x480 with 1 Axes>"
      ]
     },
     "metadata": {},
     "output_type": "display_data"
    }
   ],
   "source": [
    "# Plot da evolução da função objetivo\n",
    "import matplotlib.pyplot as plt\n",
    "\n",
    "plt.plot(h)"
   ]
  }
 ],
 "metadata": {
  "kernelspec": {
   "display_name": ".venv",
   "language": "python",
   "name": "python3"
  },
  "language_info": {
   "codemirror_mode": {
    "name": "ipython",
    "version": 3
   },
   "file_extension": ".py",
   "mimetype": "text/x-python",
   "name": "python",
   "nbconvert_exporter": "python",
   "pygments_lexer": "ipython3",
   "version": "3.12.3"
  }
 },
 "nbformat": 4,
 "nbformat_minor": 2
}
